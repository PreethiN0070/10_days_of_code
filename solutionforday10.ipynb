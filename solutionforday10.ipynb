{
 "cells": [
  {
   "cell_type": "code",
   "execution_count": 1,
   "id": "830cb827",
   "metadata": {},
   "outputs": [
    {
     "name": "stdout",
     "output_type": "stream",
     "text": [
      "haveaniceday\n",
      "hae and via ecy\n"
     ]
    }
   ],
   "source": [
    "import math\n",
    "from collections import defaultdict\n",
    "\n",
    "def encryption(text):\n",
    "    text = text.replace(\" \",\"\")\n",
    "    root= math.sqrt(len(text))\n",
    "    r = math.floor(root)\n",
    "    c = math.ceil(root)\n",
    "    d = defaultdict(str)\n",
    "    for i in range(0,len(text),c):\n",
    "        sub = text[i:i+c]\n",
    "        for x in range(len(sub)):\n",
    "            d[x]+=sub[x]\n",
    "    return(list(d.values()))\n",
    "\n",
    "print(*encryption(input()))"
   ]
  },
  {
   "cell_type": "code",
   "execution_count": null,
   "id": "9a745691",
   "metadata": {},
   "outputs": [],
   "source": []
  }
 ],
 "metadata": {
  "kernelspec": {
   "display_name": "Python 3",
   "language": "python",
   "name": "python3"
  },
  "language_info": {
   "codemirror_mode": {
    "name": "ipython",
    "version": 3
   },
   "file_extension": ".py",
   "mimetype": "text/x-python",
   "name": "python",
   "nbconvert_exporter": "python",
   "pygments_lexer": "ipython3",
   "version": "3.8.8"
  }
 },
 "nbformat": 4,
 "nbformat_minor": 5
}
